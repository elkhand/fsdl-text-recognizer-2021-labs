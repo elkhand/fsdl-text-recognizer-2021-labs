{
 "cells": [
  {
   "cell_type": "markdown",
   "metadata": {},
   "source": [
    "# Looking at EMNIST data"
   ]
  },
  {
   "cell_type": "code",
   "execution_count": 1,
   "metadata": {},
   "outputs": [],
   "source": [
    "%load_ext autoreload\n",
    "%autoreload 2\n",
    "\n",
    "%matplotlib inline\n",
    "import matplotlib.pyplot as plt\n",
    "import numpy as np\n",
    "\n",
    "from importlib.util import find_spec\n",
    "if find_spec(\"text_recognizer\") is None:\n",
    "    import sys\n",
    "    sys.path.append('..')\n",
    "\n",
    "from text_recognizer.data.emnist import EMNIST"
   ]
  },
  {
   "cell_type": "code",
   "execution_count": 2,
   "metadata": {},
   "outputs": [
    {
     "name": "stdout",
     "output_type": "stream",
     "text": [
      "EMNIST Dataset\n",
      "Num classes: 83\n",
      "Mapping: ['<B>', '<S>', '<E>', '<P>', '0', '1', '2', '3', '4', '5', '6', '7', '8', '9', 'A', 'B', 'C', 'D', 'E', 'F', 'G', 'H', 'I', 'J', 'K', 'L', 'M', 'N', 'O', 'P', 'Q', 'R', 'S', 'T', 'U', 'V', 'W', 'X', 'Y', 'Z', 'a', 'b', 'c', 'd', 'e', 'f', 'g', 'h', 'i', 'j', 'k', 'l', 'm', 'n', 'o', 'p', 'q', 'r', 's', 't', 'u', 'v', 'w', 'x', 'y', 'z', ' ', '!', '\"', '#', '&', \"'\", '(', ')', '*', '+', ',', '-', '.', '/', ':', ';', '?']\n",
      "Dims: (1, 28, 28)\n",
      "Train/val/test sizes: 260212, 65054, 53988\n",
      "Batch x stats: (torch.Size([128, 1, 28, 28]), torch.float32, tensor(0.), tensor(0.1738), tensor(0.3327), tensor(1.))\n",
      "Batch y stats: (torch.Size([128]), torch.int64, tensor(4), tensor(65))\n",
      "\n"
     ]
    }
   ],
   "source": [
    "data = EMNIST()\n",
    "data.prepare_data()\n",
    "data.setup()\n",
    "print(data)"
   ]
  },
  {
   "cell_type": "code",
   "execution_count": 3,
   "metadata": {},
   "outputs": [
    {
     "name": "stdout",
     "output_type": "stream",
     "text": [
      "torch.Size([128, 1, 28, 28]) torch.float32 tensor(0.) tensor(0.2215) tensor(0.3603) tensor(1.)\n",
      "torch.Size([128]) torch.int64 tensor(4) tensor(4)\n"
     ]
    }
   ],
   "source": [
    "x, y = next(iter(data.test_dataloader()))\n",
    "print(x.shape, x.dtype, x.min(), x.mean(), x.std(), x.max())\n",
    "print(y.shape, y.dtype, y.min(), y.max())"
   ]
  },
  {
   "cell_type": "code",
   "execution_count": 4,
   "metadata": {},
   "outputs": [
    {
     "data": {
      "image/png": "[encoded data removed]",
      "text/plain": [
       "<Figure size 648x648 with 9 Axes>"
      ]
     },
     "metadata": {
      "needs_background": "light"
     },
     "output_type": "display_data"
    }
   ],
   "source": [
    "fig = plt.figure(figsize=(9, 9))\n",
    "for i in range(9):\n",
    "    ax = fig.add_subplot(3, 3, i + 1)\n",
    "    rand_i = np.random.randint(len(data.data_test))\n",
    "    image, label = data.data_test[rand_i]\n",
    "    ax.imshow(image.reshape(28, 28), cmap='gray')\n",
    "    ax.set_title(data.mapping[label])"
   ]
  },
  {
   "cell_type": "markdown",
   "metadata": {},
   "source": [
    "## Train a CNN model"
   ]
  },
  {
   "cell_type": "code",
   "execution_count": 5,
   "metadata": {},
   "outputs": [
    {
     "name": "stderr",
     "output_type": "stream",
     "text": [
      "GPU available: True, used: True\n",
      "TPU available: False, using: 0 TPU cores\n",
      "LOCAL_RANK: 0 - CUDA_VISIBLE_DEVICES: [0,1]\n",
      "\n",
      "  | Name      | Type     | Params\n",
      "---------------------------------------\n",
      "0 | model     | CNN      | 1.7 M \n",
      "1 | train_acc | Accuracy | 0     \n",
      "2 | val_acc   | Accuracy | 0     \n",
      "3 | test_acc  | Accuracy | 0     \n",
      "---------------------------------------\n",
      "1.7 M     Trainable params\n",
      "0         Non-trainable params\n",
      "1.7 M     Total params\n",
      "6.616     Total estimated model params size (MB)\n"
     ]
    },
    {
     "name": "stdout",
     "output_type": "stream",
     "text": [
      "Epoch 0:   0%|          | 0/2542 [00:00<?, ?it/s]                     "
     ]
    },
    {
     "name": "stderr",
     "output_type": "stream",
     "text": [
      "/home/elkhand/anaconda3/envs/fsdl-text-recognizer-2021/lib/python3.6/site-packages/pytorch_lightning/utilities/distributed.py:52: UserWarning: The dataloader, val dataloader 0, does not have many workers which may be a bottleneck. Consider increasing the value of the `num_workers` argument` (try 12 which is the number of cpus on this machine) in the `DataLoader` init to improve performance.\n",
      "  warnings.warn(*args, **kwargs)\n",
      "/home/elkhand/anaconda3/envs/fsdl-text-recognizer-2021/lib/python3.6/site-packages/pytorch_lightning/utilities/distributed.py:52: UserWarning: The dataloader, train dataloader, does not have many workers which may be a bottleneck. Consider increasing the value of the `num_workers` argument` (try 12 which is the number of cpus on this machine) in the `DataLoader` init to improve performance.\n",
      "  warnings.warn(*args, **kwargs)\n"
     ]
    },
    {
     "name": "stdout",
     "output_type": "stream",
     "text": [
      "Epoch 0:  80%|███████▉  | 2033/2542 [00:34<00:08, 59.60it/s, loss=0.602, v_num=3, val_loss=4.420, val_acc=0.0234]\n",
      "Validating: 0it [00:00, ?it/s]\u001b[A\n",
      "Epoch 0:  80%|████████  | 2035/2542 [00:34<00:08, 59.29it/s, loss=0.602, v_num=3, val_loss=4.420, val_acc=0.0234]\n",
      "Epoch 0:  80%|████████  | 2044/2542 [00:34<00:08, 59.36it/s, loss=0.602, v_num=3, val_loss=4.420, val_acc=0.0234]\n",
      "Epoch 0:  81%|████████  | 2055/2542 [00:34<00:08, 59.50it/s, loss=0.602, v_num=3, val_loss=4.420, val_acc=0.0234]\n",
      "Epoch 0:  81%|████████▏ | 2066/2542 [00:34<00:07, 59.64it/s, loss=0.602, v_num=3, val_loss=4.420, val_acc=0.0234]\n",
      "Epoch 0:  82%|████████▏ | 2077/2542 [00:34<00:07, 59.78it/s, loss=0.602, v_num=3, val_loss=4.420, val_acc=0.0234]\n",
      "Epoch 0:  82%|████████▏ | 2088/2542 [00:34<00:07, 59.92it/s, loss=0.602, v_num=3, val_loss=4.420, val_acc=0.0234]\n",
      "Epoch 0:  83%|████████▎ | 2101/2542 [00:34<00:07, 60.11it/s, loss=0.602, v_num=3, val_loss=4.420, val_acc=0.0234]\n",
      "Epoch 0:  83%|████████▎ | 2114/2542 [00:35<00:07, 60.29it/s, loss=0.602, v_num=3, val_loss=4.420, val_acc=0.0234]\n",
      "Epoch 0:  84%|████████▎ | 2127/2542 [00:35<00:06, 60.43it/s, loss=0.602, v_num=3, val_loss=4.420, val_acc=0.0234]\n",
      "Epoch 0:  84%|████████▍ | 2140/2542 [00:35<00:06, 60.60it/s, loss=0.602, v_num=3, val_loss=4.420, val_acc=0.0234]\n",
      "Epoch 0:  85%|████████▍ | 2153/2542 [00:35<00:06, 60.77it/s, loss=0.602, v_num=3, val_loss=4.420, val_acc=0.0234]\n",
      "Epoch 0:  85%|████████▌ | 2166/2542 [00:35<00:06, 60.96it/s, loss=0.602, v_num=3, val_loss=4.420, val_acc=0.0234]\n",
      "Epoch 0:  86%|████████▌ | 2179/2542 [00:35<00:05, 61.14it/s, loss=0.602, v_num=3, val_loss=4.420, val_acc=0.0234]\n",
      "Epoch 0:  86%|████████▌ | 2192/2542 [00:35<00:05, 61.32it/s, loss=0.602, v_num=3, val_loss=4.420, val_acc=0.0234]\n",
      "Epoch 0:  87%|████████▋ | 2205/2542 [00:35<00:05, 61.48it/s, loss=0.602, v_num=3, val_loss=4.420, val_acc=0.0234]\n",
      "Epoch 0:  87%|████████▋ | 2218/2542 [00:35<00:05, 61.65it/s, loss=0.602, v_num=3, val_loss=4.420, val_acc=0.0234]\n",
      "Epoch 0:  88%|████████▊ | 2231/2542 [00:36<00:05, 61.82it/s, loss=0.602, v_num=3, val_loss=4.420, val_acc=0.0234]\n",
      "Epoch 0:  88%|████████▊ | 2244/2542 [00:36<00:04, 61.98it/s, loss=0.602, v_num=3, val_loss=4.420, val_acc=0.0234]\n",
      "Validating:  41%|████▏     | 211/509 [00:01<00:02, 113.94it/s]\u001b[A\n",
      "Epoch 0:  89%|████████▉ | 2257/2542 [00:36<00:04, 62.14it/s, loss=0.602, v_num=3, val_loss=4.420, val_acc=0.0234]\n",
      "Epoch 0:  89%|████████▉ | 2270/2542 [00:36<00:04, 62.30it/s, loss=0.602, v_num=3, val_loss=4.420, val_acc=0.0234]\n",
      "Epoch 0:  90%|████████▉ | 2283/2542 [00:36<00:04, 62.46it/s, loss=0.602, v_num=3, val_loss=4.420, val_acc=0.0234]\n",
      "Epoch 0:  90%|█████████ | 2296/2542 [00:36<00:03, 62.62it/s, loss=0.602, v_num=3, val_loss=4.420, val_acc=0.0234]\n",
      "Epoch 0:  91%|█████████ | 2309/2542 [00:36<00:03, 62.74it/s, loss=0.602, v_num=3, val_loss=4.420, val_acc=0.0234]\n",
      "Epoch 0:  91%|█████████▏| 2322/2542 [00:36<00:03, 62.90it/s, loss=0.602, v_num=3, val_loss=4.420, val_acc=0.0234]\n",
      "Epoch 0:  92%|█████████▏| 2335/2542 [00:37<00:03, 63.05it/s, loss=0.602, v_num=3, val_loss=4.420, val_acc=0.0234]\n",
      "Epoch 0:  92%|█████████▏| 2348/2542 [00:37<00:03, 63.19it/s, loss=0.602, v_num=3, val_loss=4.420, val_acc=0.0234]\n",
      "Epoch 0:  93%|█████████▎| 2361/2542 [00:37<00:02, 63.29it/s, loss=0.602, v_num=3, val_loss=4.420, val_acc=0.0234]\n",
      "Epoch 0:  93%|█████████▎| 2374/2542 [00:37<00:02, 63.46it/s, loss=0.602, v_num=3, val_loss=4.420, val_acc=0.0234]\n",
      "Validating:  67%|██████▋   | 341/509 [00:03<00:01, 106.82it/s]\u001b[A\n",
      "Epoch 0:  94%|█████████▍| 2387/2542 [00:37<00:02, 63.61it/s, loss=0.602, v_num=3, val_loss=4.420, val_acc=0.0234]\n",
      "Epoch 0:  94%|█████████▍| 2400/2542 [00:37<00:02, 63.74it/s, loss=0.602, v_num=3, val_loss=4.420, val_acc=0.0234]\n",
      "Epoch 0:  95%|█████████▍| 2413/2542 [00:37<00:02, 63.86it/s, loss=0.602, v_num=3, val_loss=4.420, val_acc=0.0234]\n",
      "Epoch 0:  95%|█████████▌| 2426/2542 [00:37<00:01, 64.02it/s, loss=0.602, v_num=3, val_loss=4.420, val_acc=0.0234]\n",
      "Epoch 0:  96%|█████████▌| 2439/2542 [00:38<00:01, 64.18it/s, loss=0.602, v_num=3, val_loss=4.420, val_acc=0.0234]\n",
      "Epoch 0:  96%|█████████▋| 2452/2542 [00:38<00:01, 64.33it/s, loss=0.602, v_num=3, val_loss=4.420, val_acc=0.0234]\n",
      "Epoch 0:  97%|█████████▋| 2465/2542 [00:38<00:01, 64.47it/s, loss=0.602, v_num=3, val_loss=4.420, val_acc=0.0234]\n",
      "Epoch 0:  97%|█████████▋| 2478/2542 [00:38<00:00, 64.62it/s, loss=0.602, v_num=3, val_loss=4.420, val_acc=0.0234]\n",
      "Epoch 0:  98%|█████████▊| 2491/2542 [00:38<00:00, 64.75it/s, loss=0.602, v_num=3, val_loss=4.420, val_acc=0.0234]\n",
      "Epoch 0:  99%|█████████▊| 2504/2542 [00:38<00:00, 64.89it/s, loss=0.602, v_num=3, val_loss=4.420, val_acc=0.0234]\n",
      "Validating:  93%|█████████▎| 471/509 [00:04<00:00, 110.35it/s]\u001b[A\n",
      "Epoch 0:  99%|█████████▉| 2517/2542 [00:38<00:00, 65.01it/s, loss=0.602, v_num=3, val_loss=4.420, val_acc=0.0234]\n",
      "Epoch 0: 100%|█████████▉| 2530/2542 [00:38<00:00, 65.09it/s, loss=0.602, v_num=3, val_loss=4.420, val_acc=0.0234]\n",
      "Epoch 0: 100%|██████████| 2542/2542 [00:38<00:00, 65.18it/s, loss=0.602, v_num=3, val_loss=0.583, val_acc=0.785] \n",
      "Epoch 1:  80%|███████▉  | 2033/2542 [00:36<00:09, 55.66it/s, loss=0.566, v_num=3, val_loss=0.583, val_acc=0.785]\n",
      "Validating: 0it [00:00, ?it/s]\u001b[A\n",
      "Epoch 1:  80%|████████  | 2041/2542 [00:36<00:09, 55.48it/s, loss=0.566, v_num=3, val_loss=0.583, val_acc=0.785]\n",
      "Epoch 1:  81%|████████  | 2054/2542 [00:36<00:08, 55.65it/s, loss=0.566, v_num=3, val_loss=0.583, val_acc=0.785]\n",
      "Epoch 1:  81%|████████▏ | 2067/2542 [00:37<00:08, 55.83it/s, loss=0.566, v_num=3, val_loss=0.583, val_acc=0.785]\n",
      "Validating:   7%|▋         | 34/509 [00:00<00:04, 108.15it/s]\u001b[A\n",
      "Epoch 1:  82%|████████▏ | 2080/2542 [00:37<00:08, 55.98it/s, loss=0.566, v_num=3, val_loss=0.583, val_acc=0.785]\n",
      "Epoch 1:  82%|████████▏ | 2093/2542 [00:37<00:07, 56.15it/s, loss=0.566, v_num=3, val_loss=0.583, val_acc=0.785]\n",
      "Epoch 1:  83%|████████▎ | 2106/2542 [00:37<00:07, 56.30it/s, loss=0.566, v_num=3, val_loss=0.583, val_acc=0.785]\n",
      "Epoch 1:  83%|████████▎ | 2119/2542 [00:37<00:07, 56.47it/s, loss=0.566, v_num=3, val_loss=0.583, val_acc=0.785]\n",
      "Epoch 1:  84%|████████▍ | 2132/2542 [00:37<00:07, 56.64it/s, loss=0.566, v_num=3, val_loss=0.583, val_acc=0.785]\n",
      "Epoch 1:  84%|████████▍ | 2145/2542 [00:37<00:06, 56.80it/s, loss=0.566, v_num=3, val_loss=0.583, val_acc=0.785]\n",
      "Validating:  22%|██▏       | 112/509 [00:01<00:03, 106.38it/s]\u001b[A\n",
      "Epoch 1:  85%|████████▍ | 2158/2542 [00:37<00:06, 56.96it/s, loss=0.566, v_num=3, val_loss=0.583, val_acc=0.785]\n",
      "Epoch 1:  85%|████████▌ | 2171/2542 [00:37<00:06, 57.14it/s, loss=0.566, v_num=3, val_loss=0.583, val_acc=0.785]\n",
      "Epoch 1:  86%|████████▌ | 2184/2542 [00:38<00:06, 57.30it/s, loss=0.566, v_num=3, val_loss=0.583, val_acc=0.785]\n",
      "Epoch 1:  86%|████████▋ | 2197/2542 [00:38<00:06, 57.44it/s, loss=0.566, v_num=3, val_loss=0.583, val_acc=0.785]\n",
      "Epoch 1:  87%|████████▋ | 2210/2542 [00:38<00:05, 57.59it/s, loss=0.566, v_num=3, val_loss=0.583, val_acc=0.785]\n",
      "Epoch 1:  87%|████████▋ | 2223/2542 [00:38<00:05, 57.76it/s, loss=0.566, v_num=3, val_loss=0.583, val_acc=0.785]\n",
      "Epoch 1:  88%|████████▊ | 2236/2542 [00:38<00:05, 57.92it/s, loss=0.566, v_num=3, val_loss=0.583, val_acc=0.785]\n",
      "Epoch 1:  88%|████████▊ | 2249/2542 [00:38<00:05, 58.08it/s, loss=0.566, v_num=3, val_loss=0.583, val_acc=0.785]\n",
      "Validating:  42%|████▏     | 216/509 [00:02<00:02, 108.14it/s]\u001b[A\n",
      "Epoch 1:  89%|████████▉ | 2262/2542 [00:38<00:04, 58.24it/s, loss=0.566, v_num=3, val_loss=0.583, val_acc=0.785]\n",
      "Epoch 1:  89%|████████▉ | 2275/2542 [00:38<00:04, 58.37it/s, loss=0.566, v_num=3, val_loss=0.583, val_acc=0.785]\n",
      "Epoch 1:  90%|█████████ | 2288/2542 [00:39<00:04, 58.52it/s, loss=0.566, v_num=3, val_loss=0.583, val_acc=0.785]\n",
      "Epoch 1:  91%|█████████ | 2301/2542 [00:39<00:04, 58.64it/s, loss=0.566, v_num=3, val_loss=0.583, val_acc=0.785]\n",
      "Epoch 1:  91%|█████████ | 2314/2542 [00:39<00:03, 58.79it/s, loss=0.566, v_num=3, val_loss=0.583, val_acc=0.785]\n",
      "Epoch 1:  92%|█████████▏| 2327/2542 [00:39<00:03, 58.93it/s, loss=0.566, v_num=3, val_loss=0.583, val_acc=0.785]\n",
      "Validating:  58%|█████▊    | 294/509 [00:02<00:02, 102.16it/s]\u001b[A\n",
      "Epoch 1:  92%|█████████▏| 2340/2542 [00:39<00:03, 59.07it/s, loss=0.566, v_num=3, val_loss=0.583, val_acc=0.785]\n"
     ]
    },
    {
     "name": "stdout",
     "output_type": "stream",
     "text": [
      "Epoch 1:  93%|█████████▎| 2353/2542 [00:39<00:03, 59.24it/s, loss=0.566, v_num=3, val_loss=0.583, val_acc=0.785]\n",
      "Epoch 1:  93%|█████████▎| 2366/2542 [00:39<00:02, 59.38it/s, loss=0.566, v_num=3, val_loss=0.583, val_acc=0.785]\n",
      "Epoch 1:  94%|█████████▎| 2379/2542 [00:39<00:02, 59.55it/s, loss=0.566, v_num=3, val_loss=0.583, val_acc=0.785]\n",
      "Epoch 1:  94%|█████████▍| 2392/2542 [00:40<00:02, 59.72it/s, loss=0.566, v_num=3, val_loss=0.583, val_acc=0.785]\n",
      "Epoch 1:  95%|█████████▍| 2405/2542 [00:40<00:02, 59.88it/s, loss=0.566, v_num=3, val_loss=0.583, val_acc=0.785]\n",
      "Epoch 1:  95%|█████████▌| 2418/2542 [00:40<00:02, 60.05it/s, loss=0.566, v_num=3, val_loss=0.583, val_acc=0.785]\n",
      "Epoch 1:  96%|█████████▌| 2431/2542 [00:40<00:01, 60.22it/s, loss=0.566, v_num=3, val_loss=0.583, val_acc=0.785]\n",
      "Epoch 1:  96%|█████████▌| 2444/2542 [00:40<00:01, 60.38it/s, loss=0.566, v_num=3, val_loss=0.583, val_acc=0.785]\n",
      "Epoch 1:  97%|█████████▋| 2458/2542 [00:40<00:01, 60.57it/s, loss=0.566, v_num=3, val_loss=0.583, val_acc=0.785]\n",
      "Epoch 1:  97%|█████████▋| 2472/2542 [00:40<00:01, 60.73it/s, loss=0.566, v_num=3, val_loss=0.583, val_acc=0.785]\n",
      "Epoch 1:  98%|█████████▊| 2486/2542 [00:40<00:00, 60.91it/s, loss=0.566, v_num=3, val_loss=0.583, val_acc=0.785]\n",
      "Epoch 1:  98%|█████████▊| 2500/2542 [00:40<00:00, 61.08it/s, loss=0.566, v_num=3, val_loss=0.583, val_acc=0.785]\n",
      "Epoch 1:  99%|█████████▉| 2514/2542 [00:41<00:00, 61.23it/s, loss=0.566, v_num=3, val_loss=0.583, val_acc=0.785]\n",
      "Epoch 1:  99%|█████████▉| 2528/2542 [00:41<00:00, 61.42it/s, loss=0.566, v_num=3, val_loss=0.583, val_acc=0.785]\n",
      "Epoch 1: 100%|██████████| 2542/2542 [00:41<00:00, 61.56it/s, loss=0.566, v_num=3, val_loss=0.545, val_acc=0.796]\n",
      "Epoch 2:  80%|███████▉  | 2033/2542 [00:34<00:08, 58.67it/s, loss=0.535, v_num=3, val_loss=0.545, val_acc=0.796]\n",
      "Validating: 0it [00:00, ?it/s]\u001b[A\n",
      "Epoch 2:  80%|████████  | 2044/2542 [00:34<00:08, 58.54it/s, loss=0.535, v_num=3, val_loss=0.545, val_acc=0.796]\n",
      "Epoch 2:  81%|████████  | 2058/2542 [00:35<00:08, 58.77it/s, loss=0.535, v_num=3, val_loss=0.545, val_acc=0.796]\n",
      "Epoch 2:  82%|████████▏ | 2072/2542 [00:35<00:07, 58.99it/s, loss=0.535, v_num=3, val_loss=0.545, val_acc=0.796]\n",
      "Epoch 2:  82%|████████▏ | 2086/2542 [00:35<00:07, 59.20it/s, loss=0.535, v_num=3, val_loss=0.545, val_acc=0.796]\n",
      "Epoch 2:  83%|████████▎ | 2100/2542 [00:35<00:07, 59.41it/s, loss=0.535, v_num=3, val_loss=0.545, val_acc=0.796]\n",
      "Epoch 2:  83%|████████▎ | 2114/2542 [00:35<00:07, 59.61it/s, loss=0.535, v_num=3, val_loss=0.545, val_acc=0.796]\n",
      "Epoch 2:  84%|████████▎ | 2128/2542 [00:35<00:06, 59.82it/s, loss=0.535, v_num=3, val_loss=0.545, val_acc=0.796]\n",
      "Epoch 2:  84%|████████▍ | 2142/2542 [00:35<00:06, 60.03it/s, loss=0.535, v_num=3, val_loss=0.545, val_acc=0.796]\n",
      "Validating:  21%|██▏       | 109/509 [00:00<00:03, 125.66it/s]\u001b[A\n",
      "Epoch 2:  85%|████████▍ | 2156/2542 [00:35<00:06, 60.23it/s, loss=0.535, v_num=3, val_loss=0.545, val_acc=0.796]\n",
      "Epoch 2:  85%|████████▌ | 2170/2542 [00:35<00:06, 60.42it/s, loss=0.535, v_num=3, val_loss=0.545, val_acc=0.796]\n",
      "Epoch 2:  86%|████████▌ | 2184/2542 [00:36<00:05, 60.61it/s, loss=0.535, v_num=3, val_loss=0.545, val_acc=0.796]\n",
      "Epoch 2:  86%|████████▋ | 2198/2542 [00:36<00:05, 60.80it/s, loss=0.535, v_num=3, val_loss=0.545, val_acc=0.796]\n",
      "Epoch 2:  87%|████████▋ | 2212/2542 [00:36<00:05, 61.00it/s, loss=0.535, v_num=3, val_loss=0.545, val_acc=0.796]\n",
      "Epoch 2:  88%|████████▊ | 2226/2542 [00:36<00:05, 61.20it/s, loss=0.535, v_num=3, val_loss=0.545, val_acc=0.796]\n",
      "Epoch 2:  88%|████████▊ | 2240/2542 [00:36<00:04, 61.39it/s, loss=0.535, v_num=3, val_loss=0.545, val_acc=0.796]\n",
      "Epoch 2:  89%|████████▊ | 2254/2542 [00:36<00:04, 61.57it/s, loss=0.535, v_num=3, val_loss=0.545, val_acc=0.796]\n",
      "Epoch 2:  89%|████████▉ | 2268/2542 [00:36<00:04, 61.77it/s, loss=0.535, v_num=3, val_loss=0.545, val_acc=0.796]\n",
      "Epoch 2:  90%|████████▉ | 2282/2542 [00:36<00:04, 61.95it/s, loss=0.535, v_num=3, val_loss=0.545, val_acc=0.796]\n",
      "Epoch 2:  90%|█████████ | 2296/2542 [00:36<00:03, 62.13it/s, loss=0.535, v_num=3, val_loss=0.545, val_acc=0.796]\n",
      "Epoch 2:  91%|█████████ | 2310/2542 [00:37<00:03, 62.31it/s, loss=0.535, v_num=3, val_loss=0.545, val_acc=0.796]\n",
      "Epoch 2:  91%|█████████▏| 2324/2542 [00:37<00:03, 62.48it/s, loss=0.535, v_num=3, val_loss=0.545, val_acc=0.796]\n",
      "Validating:  57%|█████▋    | 291/509 [00:02<00:01, 118.35it/s]\u001b[A\n",
      "Epoch 2:  92%|█████████▏| 2338/2542 [00:37<00:03, 62.65it/s, loss=0.535, v_num=3, val_loss=0.545, val_acc=0.796]\n",
      "Epoch 2:  93%|█████████▎| 2352/2542 [00:37<00:03, 62.82it/s, loss=0.535, v_num=3, val_loss=0.545, val_acc=0.796]\n",
      "Epoch 2:  93%|█████████▎| 2366/2542 [00:37<00:02, 63.00it/s, loss=0.535, v_num=3, val_loss=0.545, val_acc=0.796]\n",
      "Epoch 2:  94%|█████████▎| 2380/2542 [00:37<00:02, 63.18it/s, loss=0.535, v_num=3, val_loss=0.545, val_acc=0.796]\n",
      "Epoch 2:  94%|█████████▍| 2394/2542 [00:37<00:02, 63.35it/s, loss=0.535, v_num=3, val_loss=0.545, val_acc=0.796]\n",
      "Epoch 2:  95%|█████████▍| 2408/2542 [00:37<00:02, 63.53it/s, loss=0.535, v_num=3, val_loss=0.545, val_acc=0.796]\n",
      "Epoch 2:  95%|█████████▌| 2422/2542 [00:38<00:01, 63.68it/s, loss=0.535, v_num=3, val_loss=0.545, val_acc=0.796]\n",
      "Epoch 2:  96%|█████████▌| 2436/2542 [00:38<00:01, 63.84it/s, loss=0.535, v_num=3, val_loss=0.545, val_acc=0.796]\n",
      "Epoch 2:  96%|█████████▋| 2450/2542 [00:38<00:01, 64.01it/s, loss=0.535, v_num=3, val_loss=0.545, val_acc=0.796]\n",
      "Epoch 2:  97%|█████████▋| 2464/2542 [00:38<00:01, 64.20it/s, loss=0.535, v_num=3, val_loss=0.545, val_acc=0.796]\n",
      "Validating:  85%|████████▍ | 431/509 [00:03<00:00, 121.54it/s]\u001b[A\n",
      "Epoch 2:  97%|█████████▋| 2478/2542 [00:38<00:00, 64.37it/s, loss=0.535, v_num=3, val_loss=0.545, val_acc=0.796]\n",
      "Epoch 2:  98%|█████████▊| 2492/2542 [00:38<00:00, 64.53it/s, loss=0.535, v_num=3, val_loss=0.545, val_acc=0.796]\n",
      "Epoch 2:  99%|█████████▊| 2506/2542 [00:38<00:00, 64.70it/s, loss=0.535, v_num=3, val_loss=0.545, val_acc=0.796]\n",
      "Epoch 2:  99%|█████████▉| 2520/2542 [00:38<00:00, 64.85it/s, loss=0.535, v_num=3, val_loss=0.545, val_acc=0.796]\n",
      "Epoch 2: 100%|█████████▉| 2534/2542 [00:38<00:00, 65.01it/s, loss=0.535, v_num=3, val_loss=0.545, val_acc=0.796]\n",
      "Epoch 2: 100%|██████████| 2542/2542 [00:39<00:00, 65.08it/s, loss=0.535, v_num=3, val_loss=0.514, val_acc=0.805]\n",
      "Epoch 3:  80%|███████▉  | 2033/2542 [00:35<00:08, 57.51it/s, loss=0.502, v_num=3, val_loss=0.514, val_acc=0.805]\n",
      "Validating: 0it [00:00, ?it/s]\u001b[A\n",
      "Epoch 3:  80%|████████  | 2044/2542 [00:35<00:08, 57.39it/s, loss=0.502, v_num=3, val_loss=0.514, val_acc=0.805]\n",
      "Epoch 3:  81%|████████  | 2058/2542 [00:35<00:08, 57.60it/s, loss=0.502, v_num=3, val_loss=0.514, val_acc=0.805]\n",
      "Validating:   5%|▍         | 25/509 [00:00<00:04, 120.38it/s]\u001b[A\n",
      "Epoch 3:  82%|████████▏ | 2072/2542 [00:35<00:08, 57.80it/s, loss=0.502, v_num=3, val_loss=0.514, val_acc=0.805]\n",
      "Epoch 3:  82%|████████▏ | 2086/2542 [00:35<00:07, 58.02it/s, loss=0.502, v_num=3, val_loss=0.514, val_acc=0.805]\n",
      "Epoch 3:  83%|████████▎ | 2100/2542 [00:36<00:07, 58.23it/s, loss=0.502, v_num=3, val_loss=0.514, val_acc=0.805]\n",
      "Epoch 3:  83%|████████▎ | 2114/2542 [00:36<00:07, 58.42it/s, loss=0.502, v_num=3, val_loss=0.514, val_acc=0.805]\n",
      "Epoch 3:  84%|████████▎ | 2128/2542 [00:36<00:07, 58.62it/s, loss=0.502, v_num=3, val_loss=0.514, val_acc=0.805]\n",
      "Epoch 3:  84%|████████▍ | 2142/2542 [00:36<00:06, 58.81it/s, loss=0.502, v_num=3, val_loss=0.514, val_acc=0.805]\n",
      "Epoch 3:  85%|████████▍ | 2156/2542 [00:36<00:06, 59.01it/s, loss=0.502, v_num=3, val_loss=0.514, val_acc=0.805]\n",
      "Epoch 3:  85%|████████▌ | 2170/2542 [00:36<00:06, 59.19it/s, loss=0.502, v_num=3, val_loss=0.514, val_acc=0.805]\n",
      "Epoch 3:  86%|████████▌ | 2184/2542 [00:36<00:06, 59.37it/s, loss=0.502, v_num=3, val_loss=0.514, val_acc=0.805]\n",
      "Epoch 3:  86%|████████▋ | 2198/2542 [00:36<00:05, 59.58it/s, loss=0.502, v_num=3, val_loss=0.514, val_acc=0.805]\n",
      "Epoch 3:  87%|████████▋ | 2213/2542 [00:36<00:05, 59.82it/s, loss=0.502, v_num=3, val_loss=0.514, val_acc=0.805]\n",
      "Epoch 3:  88%|████████▊ | 2228/2542 [00:37<00:05, 60.03it/s, loss=0.502, v_num=3, val_loss=0.514, val_acc=0.805]\n",
      "Epoch 3:  88%|████████▊ | 2243/2542 [00:37<00:04, 60.26it/s, loss=0.502, v_num=3, val_loss=0.514, val_acc=0.805]\n"
     ]
    },
    {
     "name": "stdout",
     "output_type": "stream",
     "text": [
      "Epoch 3:  89%|████████▉ | 2258/2542 [00:37<00:04, 60.50it/s, loss=0.502, v_num=3, val_loss=0.514, val_acc=0.805]\n",
      "Epoch 3:  89%|████████▉ | 2273/2542 [00:37<00:04, 60.73it/s, loss=0.502, v_num=3, val_loss=0.514, val_acc=0.805]\n",
      "Epoch 3:  90%|█████████ | 2289/2542 [00:37<00:04, 60.99it/s, loss=0.502, v_num=3, val_loss=0.514, val_acc=0.805]\n",
      "Epoch 3:  91%|█████████ | 2305/2542 [00:37<00:03, 61.24it/s, loss=0.502, v_num=3, val_loss=0.514, val_acc=0.805]\n",
      "Epoch 3:  91%|█████████▏| 2321/2542 [00:37<00:03, 61.49it/s, loss=0.502, v_num=3, val_loss=0.514, val_acc=0.805]\n",
      "Validating:  57%|█████▋    | 288/509 [00:02<00:01, 145.01it/s]\u001b[A\n",
      "Epoch 3:  92%|█████████▏| 2337/2542 [00:37<00:03, 61.71it/s, loss=0.502, v_num=3, val_loss=0.514, val_acc=0.805]\n",
      "Epoch 3:  93%|█████████▎| 2353/2542 [00:37<00:03, 61.93it/s, loss=0.502, v_num=3, val_loss=0.514, val_acc=0.805]\n",
      "Epoch 3:  93%|█████████▎| 2369/2542 [00:38<00:02, 62.16it/s, loss=0.502, v_num=3, val_loss=0.514, val_acc=0.805]\n",
      "Epoch 3:  94%|█████████▍| 2385/2542 [00:38<00:02, 62.38it/s, loss=0.502, v_num=3, val_loss=0.514, val_acc=0.805]\n",
      "Epoch 3:  94%|█████████▍| 2401/2542 [00:38<00:02, 62.63it/s, loss=0.502, v_num=3, val_loss=0.514, val_acc=0.805]\n",
      "Epoch 3:  95%|█████████▌| 2417/2542 [00:38<00:01, 62.86it/s, loss=0.502, v_num=3, val_loss=0.514, val_acc=0.805]\n",
      "Epoch 3:  96%|█████████▌| 2433/2542 [00:38<00:01, 63.10it/s, loss=0.502, v_num=3, val_loss=0.514, val_acc=0.805]\n",
      "Epoch 3:  96%|█████████▋| 2449/2542 [00:38<00:01, 63.33it/s, loss=0.502, v_num=3, val_loss=0.514, val_acc=0.805]\n",
      "Epoch 3:  97%|█████████▋| 2465/2542 [00:38<00:01, 63.57it/s, loss=0.502, v_num=3, val_loss=0.514, val_acc=0.805]\n",
      "Epoch 3:  98%|█████████▊| 2481/2542 [00:38<00:00, 63.78it/s, loss=0.502, v_num=3, val_loss=0.514, val_acc=0.805]\n",
      "Epoch 3:  98%|█████████▊| 2497/2542 [00:39<00:00, 63.98it/s, loss=0.502, v_num=3, val_loss=0.514, val_acc=0.805]\n",
      "Epoch 3:  99%|█████████▉| 2513/2542 [00:39<00:00, 64.19it/s, loss=0.502, v_num=3, val_loss=0.514, val_acc=0.805]\n",
      "Epoch 3:  99%|█████████▉| 2529/2542 [00:39<00:00, 64.42it/s, loss=0.502, v_num=3, val_loss=0.514, val_acc=0.805]\n",
      "Epoch 3: 100%|██████████| 2542/2542 [00:39<00:00, 64.60it/s, loss=0.502, v_num=3, val_loss=0.505, val_acc=0.805]\n",
      "Epoch 4:  80%|███████▉  | 2033/2542 [00:35<00:08, 57.22it/s, loss=0.458, v_num=3, val_loss=0.505, val_acc=0.805]\n",
      "Validating: 0it [00:00, ?it/s]\u001b[A\n",
      "Validating:   0%|          | 0/509 [00:00<?, ?it/s]\u001b[A\n",
      "Epoch 4:  81%|████████  | 2048/2542 [00:35<00:08, 57.16it/s, loss=0.458, v_num=3, val_loss=0.505, val_acc=0.805]\n",
      "Epoch 4:  81%|████████  | 2064/2542 [00:35<00:08, 57.42it/s, loss=0.458, v_num=3, val_loss=0.505, val_acc=0.805]\n",
      "Epoch 4:  82%|████████▏ | 2080/2542 [00:36<00:08, 57.64it/s, loss=0.458, v_num=3, val_loss=0.505, val_acc=0.805]\n",
      "Epoch 4:  82%|████████▏ | 2096/2542 [00:36<00:07, 57.86it/s, loss=0.458, v_num=3, val_loss=0.505, val_acc=0.805]\n",
      "Epoch 4:  83%|████████▎ | 2112/2542 [00:36<00:07, 58.08it/s, loss=0.458, v_num=3, val_loss=0.505, val_acc=0.805]\n",
      "Validating:  16%|█▌        | 80/509 [00:00<00:03, 116.41it/s]\u001b[A\n",
      "Epoch 4:  84%|████████▎ | 2128/2542 [00:36<00:07, 58.31it/s, loss=0.458, v_num=3, val_loss=0.505, val_acc=0.805]\n",
      "Epoch 4:  84%|████████▍ | 2144/2542 [00:36<00:06, 58.54it/s, loss=0.458, v_num=3, val_loss=0.505, val_acc=0.805]\n",
      "Epoch 4:  85%|████████▍ | 2160/2542 [00:36<00:06, 58.78it/s, loss=0.458, v_num=3, val_loss=0.505, val_acc=0.805]\n",
      "Epoch 4:  86%|████████▌ | 2176/2542 [00:36<00:06, 59.01it/s, loss=0.458, v_num=3, val_loss=0.505, val_acc=0.805]\n",
      "Validating:  28%|██▊       | 145/509 [00:01<00:03, 120.80it/s]\u001b[A\n",
      "Epoch 4:  86%|████████▌ | 2192/2542 [00:37<00:05, 59.22it/s, loss=0.458, v_num=3, val_loss=0.505, val_acc=0.805]\n",
      "Epoch 4:  87%|████████▋ | 2208/2542 [00:37<00:05, 59.43it/s, loss=0.458, v_num=3, val_loss=0.505, val_acc=0.805]\n",
      "Epoch 4:  87%|████████▋ | 2224/2542 [00:37<00:05, 59.64it/s, loss=0.458, v_num=3, val_loss=0.505, val_acc=0.805]\n",
      "Epoch 4:  88%|████████▊ | 2240/2542 [00:37<00:05, 59.87it/s, loss=0.458, v_num=3, val_loss=0.505, val_acc=0.805]\n",
      "Epoch 4:  89%|████████▊ | 2256/2542 [00:37<00:04, 60.10it/s, loss=0.458, v_num=3, val_loss=0.505, val_acc=0.805]\n",
      "Validating:  44%|████▍     | 223/509 [00:01<00:02, 122.04it/s]\u001b[A\n",
      "Epoch 4:  89%|████████▉ | 2272/2542 [00:37<00:04, 60.29it/s, loss=0.458, v_num=3, val_loss=0.505, val_acc=0.805]\n",
      "Epoch 4:  90%|█████████ | 2288/2542 [00:37<00:04, 60.50it/s, loss=0.458, v_num=3, val_loss=0.505, val_acc=0.805]\n",
      "Epoch 4:  91%|█████████ | 2304/2542 [00:37<00:03, 60.73it/s, loss=0.458, v_num=3, val_loss=0.505, val_acc=0.805]\n",
      "Epoch 4:  91%|█████████▏| 2320/2542 [00:38<00:03, 60.93it/s, loss=0.458, v_num=3, val_loss=0.505, val_acc=0.805]\n",
      "Validating:  57%|█████▋    | 288/509 [00:02<00:01, 119.76it/s]\u001b[A\n",
      "Epoch 4:  92%|█████████▏| 2336/2542 [00:38<00:03, 61.14it/s, loss=0.458, v_num=3, val_loss=0.505, val_acc=0.805]\n",
      "Epoch 4:  93%|█████████▎| 2352/2542 [00:38<00:03, 61.35it/s, loss=0.458, v_num=3, val_loss=0.505, val_acc=0.805]\n",
      "Epoch 4:  93%|█████████▎| 2368/2542 [00:38<00:02, 61.56it/s, loss=0.458, v_num=3, val_loss=0.505, val_acc=0.805]\n",
      "Epoch 4:  94%|█████████▍| 2384/2542 [00:38<00:02, 61.79it/s, loss=0.458, v_num=3, val_loss=0.505, val_acc=0.805]\n",
      "Epoch 4:  94%|█████████▍| 2400/2542 [00:38<00:02, 62.01it/s, loss=0.458, v_num=3, val_loss=0.505, val_acc=0.805]\n",
      "Validating:  72%|███████▏  | 368/509 [00:03<00:01, 128.02it/s]\u001b[A\n",
      "Epoch 4:  95%|█████████▌| 2416/2542 [00:38<00:02, 62.22it/s, loss=0.458, v_num=3, val_loss=0.505, val_acc=0.805]\n",
      "Epoch 4:  96%|█████████▌| 2432/2542 [00:38<00:01, 62.43it/s, loss=0.458, v_num=3, val_loss=0.505, val_acc=0.805]\n",
      "Epoch 4:  96%|█████████▋| 2448/2542 [00:39<00:01, 62.66it/s, loss=0.458, v_num=3, val_loss=0.505, val_acc=0.805]\n",
      "Epoch 4:  97%|█████████▋| 2464/2542 [00:39<00:01, 62.87it/s, loss=0.458, v_num=3, val_loss=0.505, val_acc=0.805]\n",
      "Epoch 4:  98%|█████████▊| 2480/2542 [00:39<00:00, 63.07it/s, loss=0.458, v_num=3, val_loss=0.505, val_acc=0.805]\n",
      "Epoch 4:  98%|█████████▊| 2496/2542 [00:39<00:00, 63.30it/s, loss=0.458, v_num=3, val_loss=0.505, val_acc=0.805]\n",
      "Epoch 4:  99%|█████████▉| 2512/2542 [00:39<00:00, 63.51it/s, loss=0.458, v_num=3, val_loss=0.505, val_acc=0.805]\n",
      "Epoch 4:  99%|█████████▉| 2528/2542 [00:39<00:00, 63.74it/s, loss=0.458, v_num=3, val_loss=0.505, val_acc=0.805]\n",
      "Epoch 4: 100%|██████████| 2542/2542 [00:39<00:00, 63.92it/s, loss=0.458, v_num=3, val_loss=0.497, val_acc=0.808]\n",
      "Epoch 4: 100%|██████████| 2542/2542 [00:39<00:00, 63.84it/s, loss=0.458, v_num=3, val_loss=0.497, val_acc=0.808]\n"
     ]
    },
    {
     "data": {
      "text/plain": [
       "1"
      ]
     },
     "execution_count": 5,
     "metadata": {},
     "output_type": "execute_result"
    }
   ],
   "source": [
    "import pytorch_lightning as pl\n",
    "from text_recognizer.models import CNN\n",
    "from text_recognizer.lit_models import BaseLitModel\n",
    "\n",
    "model = CNN(data_config=data.config())\n",
    "lit_model = BaseLitModel(model=model)\n",
    "trainer = pl.Trainer(gpus=1, max_epochs=5) # , accelerator=\"ddp\"\n",
    "trainer.fit(lit_model, datamodule=data)"
   ]
  },
  {
   "cell_type": "code",
   "execution_count": 6,
   "metadata": {},
   "outputs": [
    {
     "name": "stdout",
     "output_type": "stream",
     "text": [
      "torch.Size([128, 83])\n",
      "tensor([4, 4, 4, 4, 4, 4, 4, 4, 4, 4, 4, 4, 4, 4, 4, 4, 4, 4, 4, 4, 4, 4, 4, 4,\n",
      "        4, 4, 4, 4, 4, 4, 4, 4, 4, 4, 4, 4, 4, 4, 4, 4, 4, 4, 4, 4, 4, 4, 4, 4,\n",
      "        4, 4, 4, 4, 4, 4, 4, 4, 4, 4, 4, 4, 4, 4, 4, 4, 4, 4, 4, 4, 4, 4, 4, 4,\n",
      "        4, 4, 4, 4, 4, 4, 4, 4, 4, 4, 4, 4, 4, 4, 4, 4, 4, 4, 4, 4, 4, 4, 4, 4,\n",
      "        4, 4, 4, 4, 4, 4, 4, 4, 4, 4, 4, 4, 4, 4, 4, 4, 4, 4, 4, 4, 4, 4, 4, 4,\n",
      "        4, 4, 4, 4, 4, 4, 4, 4]) tensor([28,  4,  4,  4,  4, 28, 28,  4, 28,  4,  4,  4,  4, 28,  4,  4,  4,  4,\n",
      "         4, 28,  4,  4,  4,  4, 28,  4,  4,  4,  4,  4,  4,  4,  4,  4, 28,  4,\n",
      "        28, 28,  4,  4, 28, 28,  4,  4,  4,  4,  4,  4,  4,  4,  4, 28,  4, 17,\n",
      "         4, 28,  4,  4, 28, 28,  4, 28,  4, 28,  4, 28, 28, 28,  4,  4,  4,  4,\n",
      "         4, 28,  4,  4, 28,  4,  4, 28,  4,  4, 28,  4,  4,  4,  4,  4, 28, 28,\n",
      "         4,  4,  4,  4,  4, 28,  4, 54,  4, 54,  4,  4,  4,  4,  4,  4,  4, 28,\n",
      "        28, 28,  4,  4, 28,  4,  4, 28,  4, 28,  4,  4,  4,  4,  4,  4,  4,  4,\n",
      "        28, 28])\n"
     ]
    }
   ],
   "source": [
    "x, y = next(iter(data.test_dataloader()))\n",
    "\n",
    "logits = model(x)  # (B, C)\n",
    "print(logits.shape)\n",
    "\n",
    "preds = logits.argmax(-1)\n",
    "\n",
    "print(y, preds)\n"
   ]
  },
  {
   "cell_type": "code",
   "execution_count": 7,
   "metadata": {},
   "outputs": [
    {
     "data": {
      "image/png": "[encoded data removed]",
      "text/plain": [
       "<Figure size 648x648 with 9 Axes>"
      ]
     },
     "metadata": {
      "needs_background": "light"
     },
     "output_type": "display_data"
    }
   ],
   "source": [
    "\n",
    "fig = plt.figure(figsize=(9, 9))\n",
    "for i in range(9):\n",
    "    ax = fig.add_subplot(3, 3, i + 1)\n",
    "    rand_i = np.random.randint(len(data.data_test))\n",
    "    image, label = data.data_test[rand_i]\n",
    "\n",
    "    image_for_model = image.unsqueeze(0)  # (1, 1, 28, 28)\n",
    "    logits = model(image_for_model)  # (1, C)\n",
    "    pred_ind = logits.argmax(-1)  # (1, )\n",
    "    pred_label = data.mapping[pred_ind]\n",
    "\n",
    "    ax.imshow(image.reshape(28, 28), cmap='gray')\n",
    "    ax.set_title(f'Correct: {data.mapping[label]}, Pred: {pred_label}')\n"
   ]
  }
 ],
 "metadata": {
  "kernelspec": {
   "display_name": "Python 3",
   "language": "python",
   "name": "python3"
  },
  "language_info": {
   "codemirror_mode": {
    "name": "ipython",
    "version": 3
   },
   "file_extension": ".py",
   "mimetype": "text/x-python",
   "name": "python",
   "nbconvert_exporter": "python",
   "pygments_lexer": "ipython3",
   "version": "3.6.13"
  }
 },
 "nbformat": 4,
 "nbformat_minor": 4
}
